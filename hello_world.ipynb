{
  "cells": [
    {
      "cell_type": "markdown",
      "id": "c061dd56",
      "metadata": {
        "id": "c061dd56"
      },
      "source": [
        "Click the run button below."
      ]
    },
    {
      "cell_type": "code",
      "execution_count": null,
      "id": "ece4e1e0-0dda-4770-8ecd-72ce06a05e2a",
      "metadata": {
        "id": "ece4e1e0-0dda-4770-8ecd-72ce06a05e2a"
      },
      "outputs": [],
      "source": [
        "x = 'hello world'\n",
        "print(x)"
      ]
    },
    {
      "cell_type": "markdown",
      "id": "36bf5acf",
      "metadata": {
        "id": "36bf5acf"
      },
      "source": [
        "**Try it on your own**\n",
        "\n",
        "Replace 'ADA' with your name below and hit run."
      ]
    },
    {
      "cell_type": "code",
      "execution_count": 1,
      "id": "6107a882",
      "metadata": {
        "id": "6107a882",
        "outputId": "f3de4f2b-9e43-4e79-f36e-5c8f3c343317",
        "colab": {
          "base_uri": "https://localhost:8080/"
        }
      },
      "outputs": [
        {
          "output_type": "stream",
          "name": "stdout",
          "text": [
            "Hello Paul Pastusek! \n",
            "\n",
            "Let's get started with Python!\n"
          ]
        }
      ],
      "source": [
        "your_name = 'Paul Pastusek'\n",
        "print(f'Hello {your_name}! \\n\\nLet\\'s get started with Python!')"
      ]
    },
    {
      "cell_type": "markdown",
      "id": "75e00cf1",
      "metadata": {
        "id": "75e00cf1"
      },
      "source": [
        "# Congrats from the Animo team!\n",
        "You've just run your first line of python code.\n",
        "\n",
        "Module 1 is just around the corner. The first step is the hardest. You're now on the journey to to **supercharge** your *drilling domain knowledge* with the power of **Python**."
      ]
    }
  ],
  "metadata": {
    "kernelspec": {
      "display_name": "venv",
      "language": "python",
      "name": "python3"
    },
    "language_info": {
      "codemirror_mode": {
        "name": "ipython",
        "version": 3
      },
      "file_extension": ".py",
      "mimetype": "text/x-python",
      "name": "python",
      "nbconvert_exporter": "python",
      "pygments_lexer": "ipython3",
      "version": "3.12.0"
    },
    "colab": {
      "provenance": []
    }
  },
  "nbformat": 4,
  "nbformat_minor": 5
}